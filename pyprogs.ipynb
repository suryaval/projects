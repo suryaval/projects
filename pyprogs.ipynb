{
 "cells": [
  {
   "cell_type": "code",
   "execution_count": 5,
   "metadata": {
    "collapsed": false
   },
   "outputs": [
    {
     "name": "stdout",
     "output_type": "stream",
     "text": [
      "Enter the first word:Hwkrr\n",
      "Enter the second word:adaA\n",
      "Not Anagram\n"
     ]
    }
   ],
   "source": [
    "#program to check if two strings are anagrams of each other\n",
    "\n",
    "s1 = input(\"Enter the first word:\")\n",
    "s2 = input(\"Enter the second word:\")\n",
    "if(sorted(s1.lower())==sorted(s2.lower())):\n",
    "    print(\"Anagram\")\n",
    "else:\n",
    "    print(\"Not Anagram\")"
   ]
  },
  {
   "cell_type": "code",
   "execution_count": 11,
   "metadata": {
    "collapsed": false
   },
   "outputs": [
    {
     "name": "stdout",
     "output_type": "stream",
     "text": [
      "Enter a number:9848022338\n",
      "8332208489\n"
     ]
    }
   ],
   "source": [
    "#How to find sum of all digits of a number in python?\n",
    "n1 = int(input(\"Enter a number:\"))\n",
    "temp = 0\n",
    "sample = n1\n",
    "while(n1 > 0):\n",
    "    temp *= 10\n",
    "    #print(\"temp=\",temp)\n",
    "    temp += n1%10\n",
    "    #print(\"temp**=\",temp)\n",
    "    n1 //= 10\n",
    "    #print(\"n1=\",n1)\n",
    "print(temp)"
   ]
  },
  {
   "cell_type": "code",
   "execution_count": 25,
   "metadata": {
    "collapsed": false
   },
   "outputs": [
    {
     "name": "stdout",
     "output_type": "stream",
     "text": [
      "enter the number to be inserted into the list:::9\n",
      "enter the number to be inserted into the list:::8\n",
      "enter the number to be inserted into the list:::9\n",
      "enter the number to be inserted into the list:::8\n",
      "enter the number to be inserted into the list:::9\n",
      "enter the number to be inserted into the list:::8\n",
      "enter the number to be inserted into the list:::7\n",
      "enter the number to be inserted into the list:::6\n",
      "enter the number to be inserted into the list:::5\n",
      "enter the number to be inserted into the list:::0\n",
      "List without duplicates is: [5, 6, 7, 8, 9]\n"
     ]
    }
   ],
   "source": [
    "#How to find duplicate elements in an array?\n",
    "#a=[1,2,2,2,1,1,3,4,5,1,2]\n",
    "#finding duplicates\n",
    "b=[]\n",
    "a = 1\n",
    "while(a != 0):\n",
    "    a=int(input(\"Enter the number to be inserted into the list:::\"))\n",
    "    if(a !=0):\n",
    "        b.append(a)\n",
    "\n",
    "sample=[]\n",
    "for i in b:\n",
    "    if i not in sample:\n",
    "        sample.append(i)      \n",
    "print(\"List without duplicates is:\",sorted(sample))"
   ]
  },
  {
   "cell_type": "code",
   "execution_count": null,
   "metadata": {
    "collapsed": true
   },
   "outputs": [],
   "source": []
  }
 ],
 "metadata": {
  "kernelspec": {
   "display_name": "Python 3",
   "language": "python",
   "name": "python3"
  },
  "language_info": {
   "codemirror_mode": {
    "name": "ipython",
    "version": 3
   },
   "file_extension": ".py",
   "mimetype": "text/x-python",
   "name": "python",
   "nbconvert_exporter": "python",
   "pygments_lexer": "ipython3",
   "version": "3.5.2"
  }
 },
 "nbformat": 4,
 "nbformat_minor": 1
}
