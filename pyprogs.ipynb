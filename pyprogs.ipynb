{
 "cells": [
  {
   "cell_type": "code",
   "execution_count": null,
   "metadata": {
    "collapsed": false
   },
   "outputs": [],
   "source": [
    "#program to check if two strings are anagrams of each other\n",
    "\n",
    "s1 = input(\"Enter the first word:\")\n",
    "s2 = input(\"Enter the second word:\")\n",
    "if(sorted(s1.lower())==sorted(s2.lower())):\n",
    "    print(\"Anagram\")\n",
    "else:\n",
    "    print(\"Not Anagram\")"
   ]
  },
  {
   "cell_type": "code",
   "execution_count": null,
   "metadata": {
    "collapsed": false
   },
   "outputs": [],
   "source": [
    "#How to find sum of all digits of a number in python?\n",
    "n1 = int(input(\"Enter a number:\"))\n",
    "temp = 0\n",
    "sample = n1\n",
    "while(n1 > 0):\n",
    "    temp *= 10\n",
    "    #print(\"temp=\",temp)\n",
    "    temp += n1%10\n",
    "    #print(\"temp**=\",temp)\n",
    "    n1 //= 10\n",
    "    #print(\"n1=\",n1)\n",
    "print(temp)"
   ]
  },
  {
   "cell_type": "code",
   "execution_count": null,
   "metadata": {
    "collapsed": false
   },
   "outputs": [],
   "source": [
    "#How to find duplicate elements in an array?\n",
    "#a=[1,2,2,2,1,1,3,4,5,1,2]\n",
    "#finding duplicates\n",
    "b=[]\n",
    "a = 1\n",
    "while(a != 0):\n",
    "    a=int(input(\"Enter the number to be inserted into the list:::\"))\n",
    "    if(a !=0):\n",
    "        b.append(a)\n",
    "\n",
    "sample=[]\n",
    "for i in b:\n",
    "    if i not in sample:\n",
    "        sample.append(i)      \n",
    "print(\"List without duplicates is:\",sorted(sample))"
   ]
  },
  {
   "cell_type": "code",
   "execution_count": null,
   "metadata": {
    "collapsed": false
   },
   "outputs": [],
   "source": [
    "#How to find sum of all digits of a number\n",
    "num = int(input(\"Enter a number:\"))\n",
    "sum = 0\n",
    "while(num>0):\n",
    "    temp = num%10\n",
    "    #print(\"temp\",temp)\n",
    "    sum = sum + temp\n",
    "    #print(\"sum\",sum)\n",
    "    num = int(num/10)\n",
    "    #print(\"num\",num)\n",
    "print(\"Sum is:\",sum)"
   ]
  },
  {
   "cell_type": "code",
   "execution_count": null,
   "metadata": {
    "collapsed": false
   },
   "outputs": [],
   "source": [
    "#How to find second largest number in an integer array\n",
    "mylist = []\n",
    "enterednum = 1\n",
    "while(enterednum != 0):\n",
    "    enterednum = int(input(\"Enter numbers into list(0 to quit)::\"))\n",
    "    if(enterednum != 0):\n",
    "        mylist.append(enterednum)\n",
    "print(\"You have entered the following numbers \\n\",mylist)\n",
    "print(\"Total number of elements in list::\",len(mylist))\n",
    "n = len(mylist)\n",
    "for i in range(0, n-1):\n",
    "    if mylist[i] > mylist[i + 1]:\n",
    "        temp = mylist[i]\n",
    "        mylist[i] = mylist[i+1]\n",
    "        mylist[i+1] = temp\n",
    "        #mylist[i],mylist[j] = mylist[j],mylist[i]\n",
    "print(\"Sorted list is:\",mylist)\n",
    "print(\"First Largest number is:\",mylist[0])\n",
    "print(\"Second Largest number is:\",mylist[1])"
   ]
  },
  {
   "cell_type": "code",
   "execution_count": null,
   "metadata": {
    "collapsed": false
   },
   "outputs": [],
   "source": [
    "# How to # in a string\n",
    "mystring = str(input(\"Enter a string::\"))\n",
    "mylist = []\n",
    "count = []\n",
    "for i in mystring:\n",
    "    if i not in mylist:\n",
    "        mylist.append(i)\n",
    "        count.append(1)\n",
    "    elif i in mylist:\n",
    "        count[mylist.index(i)] += 1\n",
    "print(\"====|Occurances|====\")\n",
    "\n",
    "for j in range(len(mylist)):\n",
    "    print(mylist[j]+\":\",count[j])"
   ]
  },
  {
   "cell_type": "code",
   "execution_count": null,
   "metadata": {
    "collapsed": false
   },
   "outputs": [],
   "source": [
    "#check whether one string is a rotation of another\n",
    "string1 = str(input(\"Enter the first string::\"))\n",
    "string2 = str(input(\"Enter the second string::\"))\n",
    "if(len(string1)!= len(string2)):\n",
    "    #print(\"hitting here\")\n",
    "    print(\"Not a rotation\")\n",
    "else:\n",
    "    string3 = string1 + string1\n",
    "    #print(\"string3=\" + string3)\n",
    "    if(string2 not in string3):\n",
    "        print(\"Not a rotation\")\n",
    "    else:\n",
    "        print(string1 + \"is a rotation of\" + string2)"
   ]
  },
  {
   "cell_type": "code",
   "execution_count": null,
   "metadata": {
    "collapsed": false
   },
   "outputs": [],
   "source": [
    "#check whether user input is number or not?\n",
    "user_input = input(\"Enter something::\")\n",
    "print(\"type\",type(user_input))\n",
    "if(type(user_input) == int):\n",
    "    print(user_input,\"is integer\")\n",
    "else:\n",
    "    print(user_input,\"is not integer\")"
   ]
  },
  {
   "cell_type": "code",
   "execution_count": 2,
   "metadata": {
    "collapsed": false
   },
   "outputs": [
    {
     "name": "stdout",
     "output_type": "stream",
     "text": [
      "Enter the angle in radians:60\n"
     ]
    },
    {
     "ename": "TypeError",
     "evalue": "a float is required",
     "output_type": "error",
     "traceback": [
      "\u001b[0;31m---------------------------------------------------------------------------\u001b[0m",
      "\u001b[0;31mTypeError\u001b[0m                                 Traceback (most recent call last)",
      "\u001b[0;32m<ipython-input-2-591f3660768e>\u001b[0m in \u001b[0;36m<module>\u001b[0;34m()\u001b[0m\n\u001b[1;32m      2\u001b[0m \u001b[1;32mimport\u001b[0m \u001b[0mmath\u001b[0m\u001b[1;33m\u001b[0m\u001b[0m\n\u001b[1;32m      3\u001b[0m \u001b[0mangle\u001b[0m \u001b[1;33m=\u001b[0m \u001b[0minput\u001b[0m\u001b[1;33m(\u001b[0m\u001b[1;34m\"Enter the angle in radians:\"\u001b[0m\u001b[1;33m)\u001b[0m\u001b[1;33m\u001b[0m\u001b[0m\n\u001b[0;32m----> 4\u001b[0;31m \u001b[0mangle\u001b[0m \u001b[1;33m=\u001b[0m \u001b[0mmath\u001b[0m\u001b[1;33m.\u001b[0m\u001b[0mradians\u001b[0m\u001b[1;33m(\u001b[0m\u001b[0mangle\u001b[0m\u001b[1;33m)\u001b[0m\u001b[1;33m\u001b[0m\u001b[0m\n\u001b[0m\u001b[1;32m      5\u001b[0m \u001b[0mprint\u001b[0m\u001b[1;33m(\u001b[0m\u001b[1;34m\"Sin angle is:\"\u001b[0m\u001b[1;33m,\u001b[0m\u001b[0masin\u001b[0m\u001b[1;33m(\u001b[0m\u001b[0mfloat\u001b[0m\u001b[1;33m(\u001b[0m\u001b[0mangle\u001b[0m\u001b[1;33m)\u001b[0m\u001b[1;33m)\u001b[0m\u001b[1;33m)\u001b[0m\u001b[1;33m\u001b[0m\u001b[0m\n\u001b[1;32m      6\u001b[0m \u001b[0mprint\u001b[0m\u001b[1;33m(\u001b[0m\u001b[1;34m\"Cos angle is:\"\u001b[0m\u001b[1;33m,\u001b[0m\u001b[0macos\u001b[0m\u001b[1;33m(\u001b[0m\u001b[0mfloat\u001b[0m\u001b[1;33m(\u001b[0m\u001b[0mangle\u001b[0m\u001b[1;33m)\u001b[0m\u001b[1;33m)\u001b[0m\u001b[1;33m)\u001b[0m\u001b[1;33m\u001b[0m\u001b[0m\n",
      "\u001b[0;31mTypeError\u001b[0m: a float is required"
     ]
    }
   ],
   "source": [
    "#find trigonometric values of an angle\n",
    "import math\n",
    "angle = input(\"Enter the angle in radians:\")\n",
    "angle = math.radians(angle)\n",
    "print(\"Sin angle is:\",asin(float(angle)))\n",
    "print(\"Cos angle is:\",acos(float(angle)))\n",
    "print(\"Tan angle is:\",atan(float(angle)))"
   ]
  },
  {
   "cell_type": "code",
   "execution_count": null,
   "metadata": {
    "collapsed": true
   },
   "outputs": [],
   "source": []
  }
 ],
 "metadata": {
  "kernelspec": {
   "display_name": "Python 3",
   "language": "python",
   "name": "python3"
  },
  "language_info": {
   "codemirror_mode": {
    "name": "ipython",
    "version": 3
   },
   "file_extension": ".py",
   "mimetype": "text/x-python",
   "name": "python",
   "nbconvert_exporter": "python",
   "pygments_lexer": "ipython3",
   "version": "3.5.2"
  }
 },
 "nbformat": 4,
 "nbformat_minor": 1
}
