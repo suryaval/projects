{
 "cells": [
  {
   "cell_type": "code",
   "execution_count": 5,
   "metadata": {
    "collapsed": false
   },
   "outputs": [
    {
     "name": "stdout",
     "output_type": "stream",
     "text": [
      "Enter the first word:Hwkrr\n",
      "Enter the second word:adaA\n",
      "Not Anagram\n"
     ]
    }
   ],
   "source": [
    "#program to check if two strings are anagrams of each other\n",
    "\n",
    "s1 = input(\"Enter the first word:\")\n",
    "s2 = input(\"Enter the second word:\")\n",
    "if(sorted(s1.lower())==sorted(s2.lower())):\n",
    "    print(\"Anagram\")\n",
    "else:\n",
    "    print(\"Not Anagram\")"
   ]
  },
  {
   "cell_type": "code",
   "execution_count": 10,
   "metadata": {
    "collapsed": false
   },
   "outputs": [
    {
     "name": "stdout",
     "output_type": "stream",
     "text": [
      "Enter a number:8788\n",
      "temp= 0\n",
      "temp**= 8\n",
      "n1= 878\n",
      "temp= 80\n",
      "temp**= 88\n",
      "n1= 87\n",
      "temp= 880\n",
      "temp**= 887\n",
      "n1= 8\n",
      "temp= 8870\n",
      "temp**= 8878\n",
      "n1= 0\n",
      "8878\n"
     ]
    }
   ],
   "source": [
    "#How to find sum of all digits of a number in python?\n",
    "n1 = int(input(\"Enter a number:\"))\n",
    "temp = 0\n",
    "sample = n1\n",
    "while(n1 > 0):\n",
    "    temp *= 10\n",
    "    print(\"temp=\",temp)\n",
    "    temp += n1%10\n",
    "    print(\"temp**=\",temp)\n",
    "    n1 //= 10\n",
    "    print(\"n1=\",n1)\n",
    "print(temp)"
   ]
  },
  {
   "cell_type": "code",
   "execution_count": null,
   "metadata": {
    "collapsed": true
   },
   "outputs": [],
   "source": []
  }
 ],
 "metadata": {
  "kernelspec": {
   "display_name": "Python 3",
   "language": "python",
   "name": "python3"
  },
  "language_info": {
   "codemirror_mode": {
    "name": "ipython",
    "version": 3
   },
   "file_extension": ".py",
   "mimetype": "text/x-python",
   "name": "python",
   "nbconvert_exporter": "python",
   "pygments_lexer": "ipython3",
   "version": "3.5.2"
  }
 },
 "nbformat": 4,
 "nbformat_minor": 1
}
